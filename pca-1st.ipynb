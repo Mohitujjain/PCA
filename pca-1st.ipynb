{
 "cells": [
  {
   "cell_type": "code",
   "execution_count": 66,
   "metadata": {
    "_cell_guid": "b1076dfc-b9ad-4769-8c92-a6c4dae69d19",
    "_uuid": "8f2839f25d086af736a60e9eeb907d3b93b6e0e5",
    "execution": {
     "iopub.execute_input": "2023-02-08T11:01:55.746923Z",
     "iopub.status.busy": "2023-02-08T11:01:55.746466Z",
     "iopub.status.idle": "2023-02-08T11:01:55.761030Z",
     "shell.execute_reply": "2023-02-08T11:01:55.759797Z",
     "shell.execute_reply.started": "2023-02-08T11:01:55.746887Z"
    }
   },
   "outputs": [
    {
     "name": "stdout",
     "output_type": "stream",
     "text": [
      "/kaggle/input/digit-recognizer/sample_submission.csv\n",
      "/kaggle/input/digit-recognizer/train.csv\n",
      "/kaggle/input/digit-recognizer/test.csv\n"
     ]
    }
   ],
   "source": [
    "# This Python 3 environment comes with many helpful analytics libraries installed\n",
    "# It is defined by the kaggle/python Docker image: https://github.com/kaggle/docker-python\n",
    "# For example, here's several helpful packages to load\n",
    "\n",
    "import numpy as np # linear algebra\n",
    "import pandas as pd # data processing, CSV file I/O (e.g. pd.read_csv)\n",
    "\n",
    "# Input data files are available in the read-only \"../input/\" directory\n",
    "# For example, running this (by clicking run or pressing Shift+Enter) will list all files under the input directory\n",
    "\n",
    "import os\n",
    "for dirname, _, filenames in os.walk('/kaggle/input'):\n",
    "    for filename in filenames:\n",
    "        print(os.path.join(dirname, filename))\n",
    "\n",
    "# You can write up to 20GB to the current directory (/kaggle/working/) that gets preserved as output when you create a version using \"Save & Run All\" \n",
    "# You can also write temporary files to /kaggle/temp/, but they won't be saved outside of the current session"
   ]
  },
  {
   "cell_type": "code",
   "execution_count": 67,
   "metadata": {
    "execution": {
     "iopub.execute_input": "2023-02-08T11:01:57.919883Z",
     "iopub.status.busy": "2023-02-08T11:01:57.919459Z",
     "iopub.status.idle": "2023-02-08T11:02:00.471762Z",
     "shell.execute_reply": "2023-02-08T11:02:00.470543Z",
     "shell.execute_reply.started": "2023-02-08T11:01:57.919849Z"
    }
   },
   "outputs": [],
   "source": [
    "df = pd.read_csv('/kaggle/input/digit-recognizer/train.csv')"
   ]
  },
  {
   "cell_type": "code",
   "execution_count": 38,
   "metadata": {
    "execution": {
     "iopub.execute_input": "2023-02-08T10:55:15.615611Z",
     "iopub.status.busy": "2023-02-08T10:55:15.615214Z",
     "iopub.status.idle": "2023-02-08T10:55:15.635812Z",
     "shell.execute_reply": "2023-02-08T10:55:15.634642Z",
     "shell.execute_reply.started": "2023-02-08T10:55:15.615573Z"
    }
   },
   "outputs": [
    {
     "data": {
      "text/html": [
       "<div>\n",
       "<style scoped>\n",
       "    .dataframe tbody tr th:only-of-type {\n",
       "        vertical-align: middle;\n",
       "    }\n",
       "\n",
       "    .dataframe tbody tr th {\n",
       "        vertical-align: top;\n",
       "    }\n",
       "\n",
       "    .dataframe thead th {\n",
       "        text-align: right;\n",
       "    }\n",
       "</style>\n",
       "<table border=\"1\" class=\"dataframe\">\n",
       "  <thead>\n",
       "    <tr style=\"text-align: right;\">\n",
       "      <th></th>\n",
       "      <th>label</th>\n",
       "      <th>pixel0</th>\n",
       "      <th>pixel1</th>\n",
       "      <th>pixel2</th>\n",
       "      <th>pixel3</th>\n",
       "      <th>pixel4</th>\n",
       "      <th>pixel5</th>\n",
       "      <th>pixel6</th>\n",
       "      <th>pixel7</th>\n",
       "      <th>pixel8</th>\n",
       "      <th>...</th>\n",
       "      <th>pixel774</th>\n",
       "      <th>pixel775</th>\n",
       "      <th>pixel776</th>\n",
       "      <th>pixel777</th>\n",
       "      <th>pixel778</th>\n",
       "      <th>pixel779</th>\n",
       "      <th>pixel780</th>\n",
       "      <th>pixel781</th>\n",
       "      <th>pixel782</th>\n",
       "      <th>pixel783</th>\n",
       "    </tr>\n",
       "  </thead>\n",
       "  <tbody>\n",
       "    <tr>\n",
       "      <th>0</th>\n",
       "      <td>1</td>\n",
       "      <td>0</td>\n",
       "      <td>0</td>\n",
       "      <td>0</td>\n",
       "      <td>0</td>\n",
       "      <td>0</td>\n",
       "      <td>0</td>\n",
       "      <td>0</td>\n",
       "      <td>0</td>\n",
       "      <td>0</td>\n",
       "      <td>...</td>\n",
       "      <td>0</td>\n",
       "      <td>0</td>\n",
       "      <td>0</td>\n",
       "      <td>0</td>\n",
       "      <td>0</td>\n",
       "      <td>0</td>\n",
       "      <td>0</td>\n",
       "      <td>0</td>\n",
       "      <td>0</td>\n",
       "      <td>0</td>\n",
       "    </tr>\n",
       "    <tr>\n",
       "      <th>1</th>\n",
       "      <td>0</td>\n",
       "      <td>0</td>\n",
       "      <td>0</td>\n",
       "      <td>0</td>\n",
       "      <td>0</td>\n",
       "      <td>0</td>\n",
       "      <td>0</td>\n",
       "      <td>0</td>\n",
       "      <td>0</td>\n",
       "      <td>0</td>\n",
       "      <td>...</td>\n",
       "      <td>0</td>\n",
       "      <td>0</td>\n",
       "      <td>0</td>\n",
       "      <td>0</td>\n",
       "      <td>0</td>\n",
       "      <td>0</td>\n",
       "      <td>0</td>\n",
       "      <td>0</td>\n",
       "      <td>0</td>\n",
       "      <td>0</td>\n",
       "    </tr>\n",
       "    <tr>\n",
       "      <th>2</th>\n",
       "      <td>1</td>\n",
       "      <td>0</td>\n",
       "      <td>0</td>\n",
       "      <td>0</td>\n",
       "      <td>0</td>\n",
       "      <td>0</td>\n",
       "      <td>0</td>\n",
       "      <td>0</td>\n",
       "      <td>0</td>\n",
       "      <td>0</td>\n",
       "      <td>...</td>\n",
       "      <td>0</td>\n",
       "      <td>0</td>\n",
       "      <td>0</td>\n",
       "      <td>0</td>\n",
       "      <td>0</td>\n",
       "      <td>0</td>\n",
       "      <td>0</td>\n",
       "      <td>0</td>\n",
       "      <td>0</td>\n",
       "      <td>0</td>\n",
       "    </tr>\n",
       "    <tr>\n",
       "      <th>3</th>\n",
       "      <td>4</td>\n",
       "      <td>0</td>\n",
       "      <td>0</td>\n",
       "      <td>0</td>\n",
       "      <td>0</td>\n",
       "      <td>0</td>\n",
       "      <td>0</td>\n",
       "      <td>0</td>\n",
       "      <td>0</td>\n",
       "      <td>0</td>\n",
       "      <td>...</td>\n",
       "      <td>0</td>\n",
       "      <td>0</td>\n",
       "      <td>0</td>\n",
       "      <td>0</td>\n",
       "      <td>0</td>\n",
       "      <td>0</td>\n",
       "      <td>0</td>\n",
       "      <td>0</td>\n",
       "      <td>0</td>\n",
       "      <td>0</td>\n",
       "    </tr>\n",
       "    <tr>\n",
       "      <th>4</th>\n",
       "      <td>0</td>\n",
       "      <td>0</td>\n",
       "      <td>0</td>\n",
       "      <td>0</td>\n",
       "      <td>0</td>\n",
       "      <td>0</td>\n",
       "      <td>0</td>\n",
       "      <td>0</td>\n",
       "      <td>0</td>\n",
       "      <td>0</td>\n",
       "      <td>...</td>\n",
       "      <td>0</td>\n",
       "      <td>0</td>\n",
       "      <td>0</td>\n",
       "      <td>0</td>\n",
       "      <td>0</td>\n",
       "      <td>0</td>\n",
       "      <td>0</td>\n",
       "      <td>0</td>\n",
       "      <td>0</td>\n",
       "      <td>0</td>\n",
       "    </tr>\n",
       "  </tbody>\n",
       "</table>\n",
       "<p>5 rows × 785 columns</p>\n",
       "</div>"
      ],
      "text/plain": [
       "   label  pixel0  pixel1  pixel2  pixel3  pixel4  pixel5  pixel6  pixel7  \\\n",
       "0      1       0       0       0       0       0       0       0       0   \n",
       "1      0       0       0       0       0       0       0       0       0   \n",
       "2      1       0       0       0       0       0       0       0       0   \n",
       "3      4       0       0       0       0       0       0       0       0   \n",
       "4      0       0       0       0       0       0       0       0       0   \n",
       "\n",
       "   pixel8  ...  pixel774  pixel775  pixel776  pixel777  pixel778  pixel779  \\\n",
       "0       0  ...         0         0         0         0         0         0   \n",
       "1       0  ...         0         0         0         0         0         0   \n",
       "2       0  ...         0         0         0         0         0         0   \n",
       "3       0  ...         0         0         0         0         0         0   \n",
       "4       0  ...         0         0         0         0         0         0   \n",
       "\n",
       "   pixel780  pixel781  pixel782  pixel783  \n",
       "0         0         0         0         0  \n",
       "1         0         0         0         0  \n",
       "2         0         0         0         0  \n",
       "3         0         0         0         0  \n",
       "4         0         0         0         0  \n",
       "\n",
       "[5 rows x 785 columns]"
      ]
     },
     "execution_count": 38,
     "metadata": {},
     "output_type": "execute_result"
    }
   ],
   "source": [
    "df.head()"
   ]
  },
  {
   "cell_type": "code",
   "execution_count": 39,
   "metadata": {
    "execution": {
     "iopub.execute_input": "2023-02-08T10:55:21.981193Z",
     "iopub.status.busy": "2023-02-08T10:55:21.980612Z",
     "iopub.status.idle": "2023-02-08T10:55:21.990178Z",
     "shell.execute_reply": "2023-02-08T10:55:21.988712Z",
     "shell.execute_reply.started": "2023-02-08T10:55:21.981144Z"
    }
   },
   "outputs": [
    {
     "data": {
      "text/plain": [
       "(42000, 785)"
      ]
     },
     "execution_count": 39,
     "metadata": {},
     "output_type": "execute_result"
    }
   ],
   "source": [
    "df.shape"
   ]
  },
  {
   "cell_type": "code",
   "execution_count": 40,
   "metadata": {
    "execution": {
     "iopub.execute_input": "2023-02-08T10:55:22.981952Z",
     "iopub.status.busy": "2023-02-08T10:55:22.981453Z",
     "iopub.status.idle": "2023-02-08T10:55:23.002240Z",
     "shell.execute_reply": "2023-02-08T10:55:23.000751Z",
     "shell.execute_reply.started": "2023-02-08T10:55:22.981916Z"
    }
   },
   "outputs": [
    {
     "data": {
      "text/html": [
       "<div>\n",
       "<style scoped>\n",
       "    .dataframe tbody tr th:only-of-type {\n",
       "        vertical-align: middle;\n",
       "    }\n",
       "\n",
       "    .dataframe tbody tr th {\n",
       "        vertical-align: top;\n",
       "    }\n",
       "\n",
       "    .dataframe thead th {\n",
       "        text-align: right;\n",
       "    }\n",
       "</style>\n",
       "<table border=\"1\" class=\"dataframe\">\n",
       "  <thead>\n",
       "    <tr style=\"text-align: right;\">\n",
       "      <th></th>\n",
       "      <th>label</th>\n",
       "      <th>pixel0</th>\n",
       "      <th>pixel1</th>\n",
       "      <th>pixel2</th>\n",
       "      <th>pixel3</th>\n",
       "      <th>pixel4</th>\n",
       "      <th>pixel5</th>\n",
       "      <th>pixel6</th>\n",
       "      <th>pixel7</th>\n",
       "      <th>pixel8</th>\n",
       "      <th>...</th>\n",
       "      <th>pixel774</th>\n",
       "      <th>pixel775</th>\n",
       "      <th>pixel776</th>\n",
       "      <th>pixel777</th>\n",
       "      <th>pixel778</th>\n",
       "      <th>pixel779</th>\n",
       "      <th>pixel780</th>\n",
       "      <th>pixel781</th>\n",
       "      <th>pixel782</th>\n",
       "      <th>pixel783</th>\n",
       "    </tr>\n",
       "  </thead>\n",
       "  <tbody>\n",
       "    <tr>\n",
       "      <th>12358</th>\n",
       "      <td>7</td>\n",
       "      <td>0</td>\n",
       "      <td>0</td>\n",
       "      <td>0</td>\n",
       "      <td>0</td>\n",
       "      <td>0</td>\n",
       "      <td>0</td>\n",
       "      <td>0</td>\n",
       "      <td>0</td>\n",
       "      <td>0</td>\n",
       "      <td>...</td>\n",
       "      <td>0</td>\n",
       "      <td>0</td>\n",
       "      <td>0</td>\n",
       "      <td>0</td>\n",
       "      <td>0</td>\n",
       "      <td>0</td>\n",
       "      <td>0</td>\n",
       "      <td>0</td>\n",
       "      <td>0</td>\n",
       "      <td>0</td>\n",
       "    </tr>\n",
       "  </tbody>\n",
       "</table>\n",
       "<p>1 rows × 785 columns</p>\n",
       "</div>"
      ],
      "text/plain": [
       "       label  pixel0  pixel1  pixel2  pixel3  pixel4  pixel5  pixel6  pixel7  \\\n",
       "12358      7       0       0       0       0       0       0       0       0   \n",
       "\n",
       "       pixel8  ...  pixel774  pixel775  pixel776  pixel777  pixel778  \\\n",
       "12358       0  ...         0         0         0         0         0   \n",
       "\n",
       "       pixel779  pixel780  pixel781  pixel782  pixel783  \n",
       "12358         0         0         0         0         0  \n",
       "\n",
       "[1 rows x 785 columns]"
      ]
     },
     "execution_count": 40,
     "metadata": {},
     "output_type": "execute_result"
    }
   ],
   "source": [
    "df.sample()"
   ]
  },
  {
   "cell_type": "code",
   "execution_count": 11,
   "metadata": {
    "execution": {
     "iopub.execute_input": "2023-02-08T10:34:57.377397Z",
     "iopub.status.busy": "2023-02-08T10:34:57.376956Z",
     "iopub.status.idle": "2023-02-08T10:34:57.382950Z",
     "shell.execute_reply": "2023-02-08T10:34:57.381843Z",
     "shell.execute_reply.started": "2023-02-08T10:34:57.377360Z"
    }
   },
   "outputs": [],
   "source": [
    "import matplotlib.pyplot as plt"
   ]
  },
  {
   "cell_type": "code",
   "execution_count": 18,
   "metadata": {
    "execution": {
     "iopub.execute_input": "2023-02-08T10:40:19.614064Z",
     "iopub.status.busy": "2023-02-08T10:40:19.613273Z",
     "iopub.status.idle": "2023-02-08T10:40:19.814716Z",
     "shell.execute_reply": "2023-02-08T10:40:19.813951Z",
     "shell.execute_reply.started": "2023-02-08T10:40:19.613995Z"
    }
   },
   "outputs": [
    {
     "data": {
      "text/plain": [
       "<matplotlib.image.AxesImage at 0x7f3a1f614bd0>"
      ]
     },
     "execution_count": 18,
     "metadata": {},
     "output_type": "execute_result"
    },
    {
     "data": {
      "image/png": "[encoded data removed]",
      "text/plain": [
       "<Figure size 432x288 with 1 Axes>"
      ]
     },
     "metadata": {
      "needs_background": "light"
     },
     "output_type": "display_data"
    }
   ],
   "source": [
    "plt.imshow(df.iloc[30642,1:].values.reshape(28,28))"
   ]
  },
  {
   "cell_type": "code",
   "execution_count": 68,
   "metadata": {
    "execution": {
     "iopub.execute_input": "2023-02-08T11:02:09.854723Z",
     "iopub.status.busy": "2023-02-08T11:02:09.854302Z",
     "iopub.status.idle": "2023-02-08T11:02:09.861285Z",
     "shell.execute_reply": "2023-02-08T11:02:09.859869Z",
     "shell.execute_reply.started": "2023-02-08T11:02:09.854690Z"
    }
   },
   "outputs": [],
   "source": [
    "X = df.iloc[:,1:]\n",
    "y = df.iloc[:,0]"
   ]
  },
  {
   "cell_type": "code",
   "execution_count": 69,
   "metadata": {
    "execution": {
     "iopub.execute_input": "2023-02-08T11:02:32.870003Z",
     "iopub.status.busy": "2023-02-08T11:02:32.869604Z",
     "iopub.status.idle": "2023-02-08T11:02:33.159891Z",
     "shell.execute_reply": "2023-02-08T11:02:33.158816Z",
     "shell.execute_reply.started": "2023-02-08T11:02:32.869971Z"
    }
   },
   "outputs": [],
   "source": [
    "from sklearn.model_selection import train_test_split\n",
    "X_train,X_test,y_train,y_test = train_test_split(X,y,test_size=0.2,random_state=7)"
   ]
  },
  {
   "cell_type": "code",
   "execution_count": 43,
   "metadata": {
    "execution": {
     "iopub.execute_input": "2023-02-08T10:55:52.546428Z",
     "iopub.status.busy": "2023-02-08T10:55:52.545963Z",
     "iopub.status.idle": "2023-02-08T10:55:52.554197Z",
     "shell.execute_reply": "2023-02-08T10:55:52.552924Z",
     "shell.execute_reply.started": "2023-02-08T10:55:52.546392Z"
    }
   },
   "outputs": [
    {
     "data": {
      "text/plain": [
       "(33600, 784)"
      ]
     },
     "execution_count": 43,
     "metadata": {},
     "output_type": "execute_result"
    }
   ],
   "source": [
    "X_train.shape"
   ]
  },
  {
   "cell_type": "code",
   "execution_count": 44,
   "metadata": {
    "execution": {
     "iopub.execute_input": "2023-02-08T10:55:53.335827Z",
     "iopub.status.busy": "2023-02-08T10:55:53.335376Z",
     "iopub.status.idle": "2023-02-08T10:55:53.341270Z",
     "shell.execute_reply": "2023-02-08T10:55:53.339939Z",
     "shell.execute_reply.started": "2023-02-08T10:55:53.335783Z"
    }
   },
   "outputs": [],
   "source": [
    "from sklearn.neighbors import KNeighborsClassifier"
   ]
  },
  {
   "cell_type": "code",
   "execution_count": 45,
   "metadata": {
    "execution": {
     "iopub.execute_input": "2023-02-08T10:55:54.776567Z",
     "iopub.status.busy": "2023-02-08T10:55:54.776158Z",
     "iopub.status.idle": "2023-02-08T10:55:54.782355Z",
     "shell.execute_reply": "2023-02-08T10:55:54.781094Z",
     "shell.execute_reply.started": "2023-02-08T10:55:54.776535Z"
    }
   },
   "outputs": [],
   "source": [
    "knn = KNeighborsClassifier()"
   ]
  },
  {
   "cell_type": "code",
   "execution_count": 46,
   "metadata": {
    "execution": {
     "iopub.execute_input": "2023-02-08T10:56:02.117367Z",
     "iopub.status.busy": "2023-02-08T10:56:02.116935Z",
     "iopub.status.idle": "2023-02-08T10:56:02.137394Z",
     "shell.execute_reply": "2023-02-08T10:56:02.135945Z",
     "shell.execute_reply.started": "2023-02-08T10:56:02.117332Z"
    }
   },
   "outputs": [
    {
     "data": {
      "text/plain": [
       "KNeighborsClassifier()"
      ]
     },
     "execution_count": 46,
     "metadata": {},
     "output_type": "execute_result"
    }
   ],
   "source": [
    "knn.fit(X_train,y_train)"
   ]
  },
  {
   "cell_type": "code",
   "execution_count": 47,
   "metadata": {
    "execution": {
     "iopub.execute_input": "2023-02-08T10:56:03.137021Z",
     "iopub.status.busy": "2023-02-08T10:56:03.136598Z",
     "iopub.status.idle": "2023-02-08T10:56:15.469185Z",
     "shell.execute_reply": "2023-02-08T10:56:15.467815Z",
     "shell.execute_reply.started": "2023-02-08T10:56:03.136988Z"
    }
   },
   "outputs": [
    {
     "name": "stdout",
     "output_type": "stream",
     "text": [
      "12.326303720474243\n"
     ]
    }
   ],
   "source": [
    "import time\n",
    "start = time.time()\n",
    "y_pred = knn.predict(X_test)\n",
    "print(time.time() - start)"
   ]
  },
  {
   "cell_type": "code",
   "execution_count": 27,
   "metadata": {
    "execution": {
     "iopub.execute_input": "2023-02-08T10:49:43.235819Z",
     "iopub.status.busy": "2023-02-08T10:49:43.235384Z",
     "iopub.status.idle": "2023-02-08T10:49:43.245467Z",
     "shell.execute_reply": "2023-02-08T10:49:43.244283Z",
     "shell.execute_reply.started": "2023-02-08T10:49:43.235751Z"
    }
   },
   "outputs": [
    {
     "data": {
      "text/plain": [
       "0.9660714285714286"
      ]
     },
     "execution_count": 27,
     "metadata": {},
     "output_type": "execute_result"
    }
   ],
   "source": [
    "from sklearn.metrics import accuracy_score\n",
    "accuracy_score(y_test,y_pred)"
   ]
  },
  {
   "cell_type": "code",
   "execution_count": 48,
   "metadata": {
    "execution": {
     "iopub.execute_input": "2023-02-08T10:56:15.473738Z",
     "iopub.status.busy": "2023-02-08T10:56:15.473346Z",
     "iopub.status.idle": "2023-02-08T10:56:15.479447Z",
     "shell.execute_reply": "2023-02-08T10:56:15.477734Z",
     "shell.execute_reply.started": "2023-02-08T10:56:15.473702Z"
    }
   },
   "outputs": [],
   "source": [
    "from sklearn.preprocessing import StandardScaler\n",
    "scaler = StandardScaler()"
   ]
  },
  {
   "cell_type": "code",
   "execution_count": 70,
   "metadata": {
    "execution": {
     "iopub.execute_input": "2023-02-08T11:03:11.767424Z",
     "iopub.status.busy": "2023-02-08T11:03:11.767008Z",
     "iopub.status.idle": "2023-02-08T11:03:12.264961Z",
     "shell.execute_reply": "2023-02-08T11:03:12.263585Z",
     "shell.execute_reply.started": "2023-02-08T11:03:11.767387Z"
    }
   },
   "outputs": [],
   "source": [
    "X_train = scaler.fit_transform(X_train)\n",
    "X_test = scaler.transform(X_test)"
   ]
  },
  {
   "cell_type": "code",
   "execution_count": 71,
   "metadata": {
    "execution": {
     "iopub.execute_input": "2023-02-08T11:03:14.996449Z",
     "iopub.status.busy": "2023-02-08T11:03:14.996060Z",
     "iopub.status.idle": "2023-02-08T11:03:15.001861Z",
     "shell.execute_reply": "2023-02-08T11:03:15.000503Z",
     "shell.execute_reply.started": "2023-02-08T11:03:14.996415Z"
    }
   },
   "outputs": [],
   "source": [
    "from sklearn.decomposition import PCA"
   ]
  },
  {
   "cell_type": "code",
   "execution_count": 72,
   "metadata": {
    "execution": {
     "iopub.execute_input": "2023-02-08T11:03:16.086330Z",
     "iopub.status.busy": "2023-02-08T11:03:16.085943Z",
     "iopub.status.idle": "2023-02-08T11:03:16.090928Z",
     "shell.execute_reply": "2023-02-08T11:03:16.089852Z",
     "shell.execute_reply.started": "2023-02-08T11:03:16.086298Z"
    }
   },
   "outputs": [],
   "source": [
    "pca = PCA(n_components=100) #100,none,200"
   ]
  },
  {
   "cell_type": "code",
   "execution_count": 52,
   "metadata": {
    "execution": {
     "iopub.execute_input": "2023-02-08T10:56:21.544316Z",
     "iopub.status.busy": "2023-02-08T10:56:21.543914Z",
     "iopub.status.idle": "2023-02-08T10:56:26.130123Z",
     "shell.execute_reply": "2023-02-08T10:56:26.128358Z",
     "shell.execute_reply.started": "2023-02-08T10:56:21.544283Z"
    }
   },
   "outputs": [],
   "source": [
    "#X_train_pca = pca.fit_transform(X_train) #1st\n",
    "#X_test_pca = pca.transform(X_test)"
   ]
  },
  {
   "cell_type": "code",
   "execution_count": 73,
   "metadata": {
    "execution": {
     "iopub.execute_input": "2023-02-08T11:03:51.537803Z",
     "iopub.status.busy": "2023-02-08T11:03:51.537325Z",
     "iopub.status.idle": "2023-02-08T11:03:56.599206Z",
     "shell.execute_reply": "2023-02-08T11:03:56.597492Z",
     "shell.execute_reply.started": "2023-02-08T11:03:51.537748Z"
    }
   },
   "outputs": [],
   "source": [
    "X_train_trf = pca.fit_transform(X_train) #2nd\n",
    "X_test_trf = pca.transform(X_test)"
   ]
  },
  {
   "cell_type": "code",
   "execution_count": 74,
   "metadata": {
    "execution": {
     "iopub.execute_input": "2023-02-08T11:04:07.449101Z",
     "iopub.status.busy": "2023-02-08T11:04:07.448648Z",
     "iopub.status.idle": "2023-02-08T11:04:07.456380Z",
     "shell.execute_reply": "2023-02-08T11:04:07.455084Z",
     "shell.execute_reply.started": "2023-02-08T11:04:07.449064Z"
    }
   },
   "outputs": [
    {
     "data": {
      "text/plain": [
       "(33600, 100)"
      ]
     },
     "execution_count": 74,
     "metadata": {},
     "output_type": "execute_result"
    }
   ],
   "source": [
    "X_train_trf.shape"
   ]
  },
  {
   "cell_type": "code",
   "execution_count": 78,
   "metadata": {
    "execution": {
     "iopub.execute_input": "2023-02-08T11:07:13.244369Z",
     "iopub.status.busy": "2023-02-08T11:07:13.243939Z",
     "iopub.status.idle": "2023-02-08T11:07:13.249306Z",
     "shell.execute_reply": "2023-02-08T11:07:13.248354Z",
     "shell.execute_reply.started": "2023-02-08T11:07:13.244334Z"
    }
   },
   "outputs": [],
   "source": [
    "knn = KNeighborsClassifier()"
   ]
  },
  {
   "cell_type": "code",
   "execution_count": 79,
   "metadata": {
    "execution": {
     "iopub.execute_input": "2023-02-08T11:07:24.793265Z",
     "iopub.status.busy": "2023-02-08T11:07:24.792875Z",
     "iopub.status.idle": "2023-02-08T11:07:24.807850Z",
     "shell.execute_reply": "2023-02-08T11:07:24.806994Z",
     "shell.execute_reply.started": "2023-02-08T11:07:24.793233Z"
    }
   },
   "outputs": [
    {
     "data": {
      "text/plain": [
       "KNeighborsClassifier()"
      ]
     },
     "execution_count": 79,
     "metadata": {},
     "output_type": "execute_result"
    }
   ],
   "source": [
    "knn.fit(X_train_trf,y_train)"
   ]
  },
  {
   "cell_type": "code",
   "execution_count": 80,
   "metadata": {
    "execution": {
     "iopub.execute_input": "2023-02-08T11:08:35.970298Z",
     "iopub.status.busy": "2023-02-08T11:08:35.969859Z",
     "iopub.status.idle": "2023-02-08T11:08:42.022955Z",
     "shell.execute_reply": "2023-02-08T11:08:42.021541Z",
     "shell.execute_reply.started": "2023-02-08T11:08:35.970262Z"
    }
   },
   "outputs": [],
   "source": [
    "y_pred =  knn.predict(X_test_trf)"
   ]
  },
  {
   "cell_type": "code",
   "execution_count": 81,
   "metadata": {
    "execution": {
     "iopub.execute_input": "2023-02-08T11:09:02.048311Z",
     "iopub.status.busy": "2023-02-08T11:09:02.047911Z",
     "iopub.status.idle": "2023-02-08T11:09:02.056976Z",
     "shell.execute_reply": "2023-02-08T11:09:02.055858Z",
     "shell.execute_reply.started": "2023-02-08T11:09:02.048280Z"
    }
   },
   "outputs": [
    {
     "data": {
      "text/plain": [
       "0.9510714285714286"
      ]
     },
     "execution_count": 81,
     "metadata": {},
     "output_type": "execute_result"
    }
   ],
   "source": [
    "accuracy_score(y_test,y_pred)"
   ]
  },
  {
   "cell_type": "code",
   "execution_count": null,
   "metadata": {
    "execution": {
     "iopub.execute_input": "2023-02-08T11:14:17.900758Z",
     "iopub.status.busy": "2023-02-08T11:14:17.900360Z"
    }
   },
   "outputs": [
    {
     "name": "stdout",
     "output_type": "stream",
     "text": [
      "0.25142857142857145\n",
      "0.33166666666666667\n",
      "0.5082142857142857\n",
      "0.664047619047619\n",
      "0.7316666666666667\n",
      "0.8253571428571429\n",
      "0.8389285714285715\n",
      "0.8666666666666667\n",
      "0.8882142857142857\n",
      "0.9082142857142858\n",
      "0.9126190476190477\n",
      "0.9205952380952381\n",
      "0.9267857142857143\n",
      "0.9319047619047619\n",
      "0.9376190476190476\n",
      "0.9371428571428572\n",
      "0.9384523809523809\n",
      "0.9397619047619048\n",
      "0.940952380952381\n",
      "0.9432142857142857\n",
      "0.9435714285714286\n",
      "0.9432142857142857\n",
      "0.9435714285714286\n",
      "0.9445238095238095\n",
      "0.945\n",
      "0.945952380952381\n",
      "0.9461904761904761\n",
      "0.9475\n",
      "0.9495238095238095\n",
      "0.9486904761904762\n",
      "0.9488095238095238\n",
      "0.9488095238095238\n",
      "0.9488095238095238\n",
      "0.949047619047619\n",
      "0.9523809523809523\n",
      "0.9528571428571428\n",
      "0.9523809523809523\n",
      "0.9516666666666667\n",
      "0.9542857142857143\n",
      "0.9530952380952381\n",
      "0.9515476190476191\n",
      "0.9515476190476191\n",
      "0.9522619047619048\n",
      "0.9523809523809523\n",
      "0.9526190476190476\n",
      "0.9523809523809523\n",
      "0.9515476190476191\n",
      "0.9521428571428572\n",
      "0.9515476190476191\n",
      "0.9515476190476191\n",
      "0.9507142857142857\n",
      "0.9510714285714286\n",
      "0.9507142857142857\n",
      "0.9510714285714286\n",
      "0.9498809523809524\n",
      "0.9508333333333333\n",
      "0.9501190476190476\n",
      "0.9502380952380952\n",
      "0.9502380952380952\n",
      "0.9515476190476191\n",
      "0.9497619047619048\n",
      "0.9510714285714286\n",
      "0.950952380952381\n",
      "0.9519047619047619\n",
      "0.9508333333333333\n",
      "0.9521428571428572\n",
      "0.9519047619047619\n",
      "0.9511904761904761\n",
      "0.9526190476190476\n",
      "0.9516666666666667\n",
      "0.950952380952381\n",
      "0.9517857142857142\n",
      "0.9515476190476191\n",
      "0.9511904761904761\n",
      "0.9516666666666667\n",
      "0.950952380952381\n",
      "0.9510714285714286\n",
      "0.950952380952381\n",
      "0.95\n",
      "0.950595238095238\n",
      "0.9517857142857142\n",
      "0.9510714285714286\n",
      "0.9502380952380952\n",
      "0.9513095238095238\n",
      "0.9507142857142857\n",
      "0.9516666666666667\n",
      "0.9508333333333333\n",
      "0.9507142857142857\n",
      "0.95\n",
      "0.950952380952381\n",
      "0.9515476190476191\n",
      "0.9519047619047619\n",
      "0.9497619047619048\n",
      "0.9517857142857142\n",
      "0.9514285714285714\n",
      "0.9497619047619048\n",
      "0.9508333333333333\n",
      "0.9510714285714286\n",
      "0.9504761904761905\n",
      "0.9504761904761905\n",
      "0.9511904761904761\n",
      "0.9513095238095238\n",
      "0.950595238095238\n",
      "0.9515476190476191\n",
      "0.9511904761904761\n",
      "0.9514285714285714\n",
      "0.9513095238095238\n",
      "0.950952380952381\n",
      "0.950595238095238\n",
      "0.9496428571428571\n",
      "0.9516666666666667\n",
      "0.9503571428571429\n",
      "0.9503571428571429\n",
      "0.9510714285714286\n",
      "0.9511904761904761\n",
      "0.950952380952381\n",
      "0.9510714285714286\n",
      "0.9508333333333333\n",
      "0.9515476190476191\n",
      "0.9510714285714286\n",
      "0.9498809523809524\n",
      "0.9516666666666667\n",
      "0.9513095238095238\n",
      "0.950952380952381\n",
      "0.9511904761904761\n",
      "0.9511904761904761\n",
      "0.9501190476190476\n",
      "0.950952380952381\n",
      "0.950595238095238\n",
      "0.9504761904761905\n",
      "0.9507142857142857\n",
      "0.9498809523809524\n",
      "0.9510714285714286\n",
      "0.9498809523809524\n",
      "0.950595238095238\n",
      "0.9503571428571429\n",
      "0.9502380952380952\n",
      "0.9503571428571429\n",
      "0.950952380952381\n",
      "0.9503571428571429\n",
      "0.9484523809523809\n",
      "0.949047619047619\n",
      "0.9495238095238095\n",
      "0.9510714285714286\n",
      "0.9497619047619048\n",
      "0.9496428571428571\n",
      "0.9508333333333333\n",
      "0.9508333333333333\n",
      "0.950595238095238\n",
      "0.9486904761904762\n",
      "0.9489285714285715\n",
      "0.9496428571428571\n",
      "0.95\n",
      "0.9491666666666667\n",
      "0.9494047619047619\n",
      "0.9496428571428571\n",
      "0.9504761904761905\n",
      "0.9488095238095238\n",
      "0.9486904761904762\n",
      "0.9497619047619048\n",
      "0.9498809523809524\n",
      "0.9486904761904762\n",
      "0.9502380952380952\n",
      "0.9507142857142857\n",
      "0.9501190476190476\n",
      "0.9498809523809524\n",
      "0.9495238095238095\n",
      "0.9496428571428571\n",
      "0.9492857142857143\n",
      "0.9497619047619048\n",
      "0.9485714285714286\n",
      "0.9475\n",
      "0.9486904761904762\n",
      "0.9495238095238095\n",
      "0.9488095238095238\n",
      "0.9488095238095238\n",
      "0.9491666666666667\n",
      "0.9483333333333334\n",
      "0.9492857142857143\n",
      "0.9476190476190476\n",
      "0.9483333333333334\n",
      "0.9498809523809524\n",
      "0.9485714285714286\n",
      "0.949047619047619\n",
      "0.9479761904761905\n",
      "0.9492857142857143\n",
      "0.9486904761904762\n",
      "0.9479761904761905\n",
      "0.9482142857142857\n",
      "0.9480952380952381\n",
      "0.9484523809523809\n",
      "0.9469047619047619\n",
      "0.9483333333333334\n",
      "0.9470238095238095\n",
      "0.9480952380952381\n",
      "0.9473809523809524\n",
      "0.9477380952380953\n",
      "0.9475\n",
      "0.9478571428571428\n"
     ]
    }
   ],
   "source": [
    "for i in range(1,785):\n",
    "    pca = PCA(n_components=i)\n",
    "    X_train_trf = pca.fit_transform(X_train)\n",
    "    X_test_trf = pca.transform(X_test)\n",
    "    \n",
    "    knn = KNeighborsClassifier() #n_neighbors=5\n",
    "    \n",
    "    knn.fit(X_train_trf,y_train)\n",
    "    \n",
    "    y_pred = knn.predict(X_test_trf)\n",
    "    \n",
    "    print(accuracy_score(y_test,y_pred))"
   ]
  },
  {
   "cell_type": "code",
   "execution_count": null,
   "metadata": {},
   "outputs": [],
   "source": []
  }
 ],
 "metadata": {
  "kernelspec": {
   "display_name": "Python 3",
   "language": "python",
   "name": "python3"
  },
  "language_info": {
   "codemirror_mode": {
    "name": "ipython",
    "version": 3
   },
   "file_extension": ".py",
   "mimetype": "text/x-python",
   "name": "python",
   "nbconvert_exporter": "python",
   "pygments_lexer": "ipython3",
   "version": "3.8.8"
  }
 },
 "nbformat": 4,
 "nbformat_minor": 4
}
